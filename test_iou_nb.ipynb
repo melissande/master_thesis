{
 "cells": [
  {
   "cell_type": "code",
   "execution_count": 1,
   "metadata": {},
   "outputs": [],
   "source": [
    "from IOU_computations import *\n",
    "import cv2\n",
    "from numpy import newaxis"
   ]
  },
  {
   "cell_type": "code",
   "execution_count": 2,
   "metadata": {},
   "outputs": [
    {
     "name": "stdout",
     "output_type": "stream",
     "text": [
      "[ 30 215]\n"
     ]
    }
   ],
   "source": [
    "path='MODEL_TF_SPACENET/TEST_SAVE/'\n",
    "pred_path=path+'epoch_39_Predictions_26.jpg'\n",
    "gt_path=path+'epoch_39_Groundtruth_26.jpg'\n",
    "\n",
    "pred=cv2.imread(pred_path,cv2.IMREAD_GRAYSCALE)[newaxis,:,:]\n",
    "gt=cv2.imread(gt_path,cv2.IMREAD_GRAYSCALE)[newaxis,:,:]\n",
    "print(np.unique(pred))\n",
    "\n",
    "\n"
   ]
  },
  {
   "cell_type": "code",
   "execution_count": 3,
   "metadata": {},
   "outputs": [
    {
     "name": "stdout",
     "output_type": "stream",
     "text": [
      "Image 0: 6 predictions proposed and 7 groundtruth\n",
      "96.0\n",
      "Polygone\n",
      "45.0\n",
      "549.0\n",
      "77.0\n",
      "486.0\n",
      "1554.0\n",
      "620.0\n",
      "11069.0\n",
      "[0.38235294 0.         0.         0.         0.         0.\n",
      " 0.00513144]\n",
      "[0. 0. 0. 0. 0. 0. 0.]\n",
      "493.0\n",
      "Polygone\n",
      "45.0\n",
      "549.0\n",
      "77.0\n",
      "486.0\n",
      "1554.0\n",
      "620.0\n",
      "11069.0\n",
      "[0.         0.         0.         0.89361702 0.         0.\n",
      " 0.00268841]\n",
      "[0.         0.         0.         0.89361702 0.         0.\n",
      " 0.        ]\n",
      "index 3\n",
      "new size groundtruth 6\n",
      "1.0\n",
      "Polygone\n",
      "45.0\n",
      "549.0\n",
      "77.0\n",
      "1554.0\n",
      "620.0\n",
      "11069.0\n",
      "[0.        0.        0.        0.0006435 0.        0.       ]\n",
      "[0. 0. 0. 0. 0. 0.]\n",
      "609.0\n",
      "Polygone\n",
      "45.0\n",
      "549.0\n",
      "77.0\n",
      "1554.0\n",
      "620.0\n",
      "11069.0\n",
      "[0.         0.         0.         0.         0.89076923 0.00257555]\n",
      "[0.         0.         0.         0.         0.89076923 0.        ]\n",
      "index 4\n",
      "new size groundtruth 5\n",
      "1531.0\n",
      "Polygone\n",
      "45.0\n",
      "549.0\n",
      "77.0\n",
      "1554.0\n",
      "11069.0\n",
      "[0.         0.         0.         0.86856451 0.00775814]\n",
      "[0.         0.         0.         0.86856451 0.        ]\n",
      "index 3\n",
      "new size groundtruth 4\n",
      "11670.0\n",
      "Polygone\n",
      "45.0\n",
      "549.0\n",
      "77.0\n",
      "11069.0\n",
      "[5.12426339e-04 4.70437018e-02 6.59811482e-03 9.13251998e-01]\n",
      "[0.       0.       0.       0.913252]\n",
      "index 3\n",
      "new size groundtruth 3\n",
      "score: 4.000000: \n",
      "IOUs_sum: 3.566203: \n"
     ]
    }
   ],
   "source": [
    "iou_acc,f1,ious=predict_score_batch('iou_tmp/',gt,pred)"
   ]
  },
  {
   "cell_type": "code",
   "execution_count": 4,
   "metadata": {},
   "outputs": [
    {
     "name": "stdout",
     "output_type": "stream",
     "text": [
      "57.14285714285714\n",
      "61.53846153846154\n",
      "0.5094575366746878\n"
     ]
    }
   ],
   "source": [
    "print(iou_acc)\n",
    "print(f1)\n",
    "print(ious)\n"
   ]
  },
  {
   "cell_type": "code",
   "execution_count": 10,
   "metadata": {},
   "outputs": [
    {
     "name": "stderr",
     "output_type": "stream",
     "text": [
      "/home/s161362/.conda/envs/env_dhi/lib/python3.6/site-packages/h5py/__init__.py:36: FutureWarning: Conversion of the second argument of issubdtype from `float` to `np.floating` is deprecated. In future, it will be treated as `np.float64 == np.dtype(float).type`.\n",
      "  from ._conv import register_converters as _register_converters\n"
     ]
    }
   ],
   "source": [
    "from dataset_generator import DatasetGenerator"
   ]
  },
  {
   "cell_type": "code",
   "execution_count": 14,
   "metadata": {},
   "outputs": [
    {
     "name": "stdout",
     "output_type": "stream",
     "text": [
      "1.0\n"
     ]
    }
   ],
   "source": [
    "root_folder = '/scratch/SPACENET_DATA_PROCESSED/DATASET/120_x_120_8_bands_pansh/'\n",
    "\n",
    "val_generator = DatasetGenerator.from_root_folder(root_folder+'VALIDATION/', batch_size=2)\n",
    "val_generator=val_generator.shuffled()\n",
    "val_generator=val_generator.__iter__()\n",
    "X_val,Y_val=val_generator.__next__()\n",
    "print(np.amax(Y_val))\n"
   ]
  },
  {
   "cell_type": "code",
   "execution_count": null,
   "metadata": {},
   "outputs": [],
   "source": []
  }
 ],
 "metadata": {
  "kernelspec": {
   "display_name": "env_dhi",
   "language": "python",
   "name": "env_dhi"
  },
  "language_info": {
   "codemirror_mode": {
    "name": "ipython",
    "version": 3
   },
   "file_extension": ".py",
   "mimetype": "text/x-python",
   "name": "python",
   "nbconvert_exporter": "python",
   "pygments_lexer": "ipython3",
   "version": "3.6.4"
  }
 },
 "nbformat": 4,
 "nbformat_minor": 2
}
