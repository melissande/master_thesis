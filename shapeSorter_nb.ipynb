{
 "cells": [
  {
   "cell_type": "code",
   "execution_count": 16,
   "metadata": {},
   "outputs": [],
   "source": [
    "\n",
    "import torch\n",
    "from torch.utils.data import Dataset\n",
    "import numpy as np\n",
    "import cv2\n",
    "import matplotlib.pyplot as plt\n",
    "\n",
    "\n",
    "\n"
   ]
  },
  {
   "cell_type": "code",
   "execution_count": 17,
   "metadata": {},
   "outputs": [],
   "source": [
    "COLORS = ['#F44336',\"#E91E63\",'#9C27B0','#673AB7','#3F51B5','#2196F3','#03A9F4','#00BCD4','#4CAF50',\n",
    " '#8BC34A','#CDDC39','#FFEB3B','#FFC107','#FF9800','#FF5722']\n",
    "\n",
    "\n",
    "r_min = 12\n",
    "r_max = 36\n",
    "line_width_min = 2\n",
    "line_width_max = 4\n",
    "background_intensity = 30.0 / 255.0\n",
    "\n",
    "def hex2rgb(h):\n",
    "    h = h.lstrip('#')\n",
    "    return tuple(int(h[i:i+2], 16) for i in (0, 2 ,4))\n",
    "\n",
    "def DrawRandomCircle(img,segments,r_min,r_max,alpha):\n",
    "    color = hex2rgb( np.random.choice(COLORS) )\n",
    "    t = np.random.random()\n",
    "    r = int(t * r_min + (1-t) * r_max)\n",
    "    ti = np.random.random()\n",
    "    tj = np.random.random()\n",
    "    i = int(ti*img.shape[0])\n",
    "    j = int(tj*img.shape[1])\n",
    "    canvas = img.copy()\n",
    "    cv2.circle(canvas,(i,j), r, color, -1)\n",
    "    cv2.circle(segments,(i,j), r, (1,0,0), -1)\n",
    "    img = cv2.addWeighted(img, 1.0 - alpha, canvas, alpha, 0, img )\n",
    "    box  = [i-r,j-r,2*r,2*r]\n",
    "    return img,segments,box\n",
    "\n",
    "def DrawRandomSquare(img,segments,r_min,r_max,alpha):\n",
    "    color = hex2rgb( np.random.choice(COLORS) )\n",
    "    t = np.random.random()\n",
    "    r = int(t * r_min + (1-t) * r_max)\n",
    "    i = int(np.random.random()*img.shape[0])\n",
    "    j = int(np.random.random()*img.shape[1])\n",
    "    theta = np.pi * np.random.random()\n",
    "    ri = r*np.cos(theta)\n",
    "    rj = r*np.sin(theta) \n",
    "    pts = [(ri,rj),(-rj,ri),(-ri,-rj),(rj,-ri) ]\n",
    "    pts = [(i+y,j+x) for (y,x) in pts]\n",
    "    pts = np.array(pts, np.int32)\n",
    "    pts = pts.reshape((-1,1,2))\n",
    "    canvas = img.copy()\n",
    "    cv2.fillPoly(canvas,[pts],color)\n",
    "    cv2.fillPoly(segments,[pts],(0,1,0))\n",
    "    img = cv2.addWeighted(img, 1.0 - alpha, canvas, alpha, 0, img )\n",
    "    box = [min(pts[:,:,0])[0],min(pts[:,:,1])[0], max(pts[:,:,0])[0]-min(pts[:,:,0])[0], max(pts[:,:,1])[0] - min(pts[:,:,1])[0] ]\n",
    "    return img,segments,box\n",
    "\n",
    "def DrawRandomLine(img,segments,line_width_min,line_width_max,alpha):\n",
    "    color = hex2rgb( np.random.choice(COLORS) )\n",
    "    t = np.random.random()\n",
    "    line_width = int(t * line_width_min + (1-t) * line_width_max)\n",
    "    i1 = int(np.random.random()*img.shape[0])\n",
    "    j1 = int(np.random.random()*img.shape[1])\n",
    "    i2 = int(np.random.random()*img.shape[0])\n",
    "    j2 = int(np.random.random()*img.shape[1])\n",
    "    canvas = img.copy()\n",
    "    cv2.line(canvas,(i1,j1),(i2,j2),color,line_width)\n",
    "    cv2.line(segments,(i1,j1),(i2,j2),(0,0,1),line_width)\n",
    "    img = cv2.addWeighted(img, 1.0 - alpha, canvas, alpha, 0, img )\n",
    "    pts = np.asarray([(i1,j1),(i2,j2)])\n",
    "    box = [min(pts[:,0]),min(pts[:,1]), max(pts[:,0])-min(pts[:,0]), max(pts[:,1]) - min(pts[:,1]) ]\n",
    "    return img,segments,box\n",
    "\n",
    "def generateSegmentation(canvas_size, n_max,data_size, alpha = 0.5, noise_types=[]):\n",
    "    canvas = background_intensity * np.ones((data_size,canvas_size,canvas_size,3))\n",
    "    segments = np.zeros((data_size,canvas_size,canvas_size,3))\n",
    "    boxes = []\n",
    "    labels = []\n",
    "    for i in range(data_size):\n",
    "#         for _ in range(np.random.choice(range(n_max))):\n",
    "#             canvas[i],segments[i],b = DrawRandomCircle(canvas[i],segments[i],r_min,r_max,alpha)\n",
    "#             boxes += [b]\n",
    "#             labels += [1]\n",
    "        for _ in range(np.random.choice(range(n_max))):\n",
    "            canvas[i],segments[i],b = DrawRandomSquare(canvas[i],segments[i],r_min,r_max,alpha)\n",
    "            boxes += [b]\n",
    "            labels += [2]\n",
    "        for _ in range(np.random.choice(range(n_max))):\n",
    "            canvas[i],segments[i],b = DrawRandomLine(canvas[i],segments[i],line_width_min,line_width_max,alpha)\n",
    "            boxes += [b]\n",
    "            labels += [3]\n",
    "        for t in noise_types:\n",
    "            canvas[i] = noisy(t,canvas[i])\n",
    "    return canvas,segments, labels, boxes\n",
    "\n",
    "def stackSegments(segments):\n",
    "    canvas = np.zeros((segments.shape[:3]))\n",
    "    canvas += 1 * segments[:,:,:,0]\n",
    "    canvas += 2 * segments[:,:,:,1]\n",
    "    canvas += 3 * segments[:,:,:,2]\n",
    "    return canvas\n",
    "\n"
   ]
  },
  {
   "cell_type": "code",
   "execution_count": 18,
   "metadata": {},
   "outputs": [],
   "source": [
    "class SimpleSegmentationDataset(Dataset):\n",
    "    \"\"\"A simple dataset for image segmentation purpose\"\"\"\n",
    "    def __init__(self, patch_size, n_max, alpha =1.0,virtual_size=1000):\n",
    "        self.virtual_size = virtual_size\n",
    "        self.patch_size = patch_size\n",
    "        self.n_max = n_max\n",
    "        self.alpha = alpha\n",
    "\n",
    "\n",
    "    def __len__(self):\n",
    "        return self.virtual_size\n",
    "\n",
    "    def __getitem__(self):\n",
    "        x,y,_,_ = generateSegmentation(self.patch_size, self.n_max,self.virtual_size, self.alpha)\n",
    "#         x = x.transpose([2,0,1])\n",
    "\n",
    "        y = stackSegments(y)\n",
    "        y=(np.arange(y.max()) == y[...,None]-1).astype(int)\n",
    "        return x,y\n",
    "    \n"
   ]
  },
  {
   "cell_type": "code",
   "execution_count": 19,
   "metadata": {},
   "outputs": [],
   "source": [
    "def draw_input(img, title=None):\n",
    "\n",
    "    plt.title(title, fontsize=20)\n",
    "    plt.imshow(img)\n",
    "    plt.show()\n",
    "    \n",
    "def draw_label(img, title=None):\n",
    "    img=np.argmax(img,2)\n",
    "    plt.title(title, fontsize=20)\n",
    "    plt.imshow(img)\n",
    "    plt.show()"
   ]
  },
  {
   "cell_type": "code",
   "execution_count": 20,
   "metadata": {},
   "outputs": [
    {
     "data": {
      "image/png": "[encoded data removed]",
      "text/plain": [
       "<matplotlib.figure.Figure at 0x7fc5f05bb6a0>"
      ]
     },
     "metadata": {},
     "output_type": "display_data"
    },
    {
     "data": {
      "image/png": "[encoded data removed]",
      "text/plain": [
       "<matplotlib.figure.Figure at 0x7fc5fbde9e80>"
      ]
     },
     "metadata": {},
     "output_type": "display_data"
    }
   ],
   "source": [
    "if __name__ == '__main__':\n",
    "\n",
    "    segmentation_dataset=SimpleSegmentationDataset(120,4,virtual_size=200)\n",
    "    test_x,test_y=segmentation_dataset.__getitem__()\n",
    "    print(test_y.shape)\n",
    "    draw_input(test_x[3],'Input')\n",
    "    draw_label(test_y[3],'Label')\n",
    "#     a = np.array([1, 0, 3])\n",
    "#     b = np.zeros((3, 4))\n",
    "#     b[np.arange(3), a] = 1\n",
    "#     print(b)\n",
    "    "
   ]
  },
  {
   "cell_type": "code",
   "execution_count": null,
   "metadata": {},
   "outputs": [],
   "source": []
  },
  {
   "cell_type": "code",
   "execution_count": null,
   "metadata": {},
   "outputs": [],
   "source": []
  },
  {
   "cell_type": "code",
   "execution_count": null,
   "metadata": {},
   "outputs": [],
   "source": []
  }
 ],
 "metadata": {
  "kernelspec": {
   "display_name": "env_dhi",
   "language": "python",
   "name": "env_dhi"
  },
  "language_info": {
   "codemirror_mode": {
    "name": "ipython",
    "version": 3
   },
   "file_extension": ".py",
   "mimetype": "text/x-python",
   "name": "python",
   "nbconvert_exporter": "python",
   "pygments_lexer": "ipython3",
   "version": "3.6.4"
  }
 },
 "nbformat": 4,
 "nbformat_minor": 2
}
