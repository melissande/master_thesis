{
 "cells": [
  {
   "cell_type": "code",
   "execution_count": 1,
   "metadata": {},
   "outputs": [
    {
     "name": "stderr",
     "output_type": "stream",
     "text": [
      "/home/s161362/.conda/envs/env_dhi/lib/python3.6/site-packages/h5py/__init__.py:36: FutureWarning: Conversion of the second argument of issubdtype from `float` to `np.floating` is deprecated. In future, it will be treated as `np.float64 == np.dtype(float).type`.\n",
      "  from ._conv import register_converters as _register_converters\n"
     ]
    }
   ],
   "source": [
    "import tensorflow as tf\n",
    "import h5py\n",
    "import numpy as np\n",
    "from numpy import newaxis\n",
    "import cv2\n",
    "import sys\n",
    "import os\n",
    "from osgeo import gdal\n",
    "from image_utils import read_images,write_data_h5,read_labels\n",
    "import matplotlib.pyplot as plt"
   ]
  },
  {
   "cell_type": "code",
   "execution_count": 2,
   "metadata": {},
   "outputs": [],
   "source": [
    "\n",
    "\n",
    "NAME_PANCHRO='panchro.tif'\n",
    "NAME_PANSHARP='pansharp.tif'\n",
    "NAME_MS='ms.tif'\n",
    "NAME_LABELS='groundtruth.png'\n",
    "\n",
    "WIDTH=500\n",
    "STRIDE=250\n"
   ]
  },
  {
   "cell_type": "code",
   "execution_count": 3,
   "metadata": {},
   "outputs": [],
   "source": [
    "def prepare_ms_hr(ms_lr,size_hr):\n",
    "    '''\n",
    "    Prepares the upsampled MS image \n",
    "    :ms_lr input image to upsample\n",
    "    :size_hr to upsample the Low Resolution MS image to the dimension of the High Resolution panchromatic image\n",
    "    '''\n",
    "    ms_ph=tf.placeholder(tf.float64, [ms_lr.shape[0],ms_lr.shape[1],ms_lr.shape[2],ms_lr.shape[3]], name='ms_placeholder')\n",
    "    ms_hr=tf.image.resize_images(ms_ph, [size_hr[0], size_hr[1]])\n",
    "    ms_hr=tf.cast(ms_hr,tf.float64,name='cast_ms_hr')\n",
    "\n",
    "    with tf.Session() as sess:\n",
    "        ms_hr= sess.run(ms_hr,feed_dict={ms_ph: ms_lr})\n",
    "        return ms_hr"
   ]
  },
  {
   "cell_type": "code",
   "execution_count": 4,
   "metadata": {},
   "outputs": [],
   "source": [
    "def extract_patches(data,width,stride,path_out):\n",
    "    '''\n",
    "    Extract patches from images and writes the output to .h5 file format\n",
    "    :data input image \n",
    "    :width dimensiton of the patch\n",
    "    :stride stride of patch selection on the image\n",
    "    :path_out where to save the patches\n",
    "    '''\n",
    "    print('Patch extraction with stride=%d and width=%d begins for: %s'%(stride,width,path_out) )\n",
    "    data_pl=tf.placeholder(tf.float64, [data.shape[0],data.shape[1],data.shape[2],data.shape[3]], name='data_placeholder')\n",
    "    data_o=tf.extract_image_patches(images=data_pl,ksizes=[1,width,width,1],strides=[1,stride,stride,1],rates=[1,1,1,1],padding='VALID')\n",
    "    print('Patch extraction done')\n",
    "    size_tot=data_o.get_shape().as_list()\n",
    "    data_o=tf.reshape(data_o,[size_tot[1]*size_tot[2],width,width,data.shape[3]])\n",
    "    with tf.Session() as sess:\n",
    "        Data_o= sess.run(data_o,feed_dict={data_pl: data})\n",
    "        write_data_h5(path_out,Data_o)\n",
    "        print('%d patches of size %d x %d saved as list for %s'%(Data_o.shape[0],Data_o.shape[1],Data_o.shape[2],path_out))\n",
    "        return Data_o"
   ]
  },
  {
   "cell_type": "code",
   "execution_count": 5,
   "metadata": {},
   "outputs": [
    {
     "name": "stdout",
     "output_type": "stream",
     "text": [
      "(10628, 13677)\n",
      "\n",
      " LABELS \n",
      "\n",
      "\n",
      "Patch extraction with stride=250 and width=500 begins for: ../DATA_GHANA/RAW_PATCHES/500_x_500/groundtruth.h5\n",
      "Patch extraction done\n",
      "File../DATA_GHANA/RAW_PATCHES/500_x_500/groundtruth.h5 created\n",
      "2173 patches of size 500 x 500 saved as list for ../DATA_GHANA/RAW_PATCHES/500_x_500/groundtruth.h5\n"
     ]
    },
    {
     "data": {
      "image/png": "[encoded data removed]",
      "text/plain": [
       "<matplotlib.figure.Figure at 0x7fb089bbc198>"
      ]
     },
     "metadata": {},
     "output_type": "display_data"
    }
   ],
   "source": [
    "if __name__ == '__main__':\n",
    "    path='../DATA_GHANA/RAW_DATA/'\n",
    "\n",
    "    path_patches='../DATA_GHANA/RAW_PATCHES/500_x_500/'\n",
    "    if not os.path.exists(path_patches):\n",
    "            os.makedirs(path_patches)\n",
    "  \n",
    "    patch_test_number=300\n",
    "#     ## Panchromatic\n",
    "    panchromatic_file=path+NAME_PANCHRO\n",
    "    panchromatic=read_images(panchromatic_file)\n",
    "    hr_size=panchromatic.shape\n",
    "    panchromatic=panchromatic[newaxis,:,:,newaxis]\n",
    "    \n",
    "    print('\\n PANCHROMATIC \\n\\n')\n",
    "    panchromatic=extract_patches(panchromatic,WIDTH,STRIDE,path_patches+'panchro.h5')\n",
    "    plt.imshow(panchromatic[patch_test_number,:,:,0])\n",
    "    plt.show()\n",
    "\n",
    "    \n",
    "# #     ##MS bands\n",
    "    \n",
    "    ms_file=path+NAME_MS \n",
    "    ms=read_images(ms_file)\n",
    "    ms=np.transpose(ms,(1,2,0))\n",
    "    print('\\n MS BANDS\\n\\n')\n",
    "    for i in range(ms.shape[2]):\n",
    "        print('\\n Band %d \\n'%i)\n",
    "        ms_i=ms[:,:,i]\n",
    "        print('Upscale')\n",
    "        ms_hr=prepare_ms_hr(ms_i[newaxis,:,:,newaxis],hr_size)\n",
    "        ms_hr=extract_patches(ms_hr,WIDTH,STRIDE,path_patches+'ms_hr_'+str(i)+'.h5')\n",
    "        plt.imshow(ms_hr[patch_test_number,:,:,0])\n",
    "        plt.show()\n",
    "\n",
    "    \n",
    "    ##Pansharpened bands\n",
    "    \n",
    "    pansharpened_file=path+NAME_PANSHARP \n",
    "    pansharpened=read_images(pansharpened_file)\n",
    "    pansharpened=np.transpose(pansharpened,(1,2,0))\n",
    "    print('\\n BANDS\\n\\n')\n",
    "    for i in range(pansharpened.shape[2]):\n",
    "        print('\\n Band %d \\n'%i)\n",
    "        pansharpened_i=pansharpened[:,:,i]\n",
    "        print('Upscale')\n",
    "        pansharpened_i=extract_patches(pansharpened_i[newaxis,:,:,newaxis],WIDTH,STRIDE,path_patches+'pansharpened_'+str(i)+'.h5')\n",
    "        plt.imshow(pansharpened_i[patch_test_number,:,:,0])\n",
    "        plt.show()\n",
    "        \n",
    "#     ## Label patches\n",
    "    \n",
    "    labels_file=path+NAME_LABELS\n",
    "    labels=read_labels(labels_file)\n",
    "    labels=labels[newaxis,:,:,newaxis]\n",
    "    \n",
    "    print('\\n LABELS \\n\\n')\n",
    "    labels=extract_patches(labels,WIDTH,STRIDE,path_patches+'groundtruth.h5')\n",
    "    plt.imshow(labels[patch_test_number,:,:,0])\n",
    "    plt.show()\n",
    "    \n",
    "    \n",
    "\n",
    "    "
   ]
  },
  {
   "cell_type": "code",
   "execution_count": null,
   "metadata": {},
   "outputs": [],
   "source": []
  },
  {
   "cell_type": "code",
   "execution_count": null,
   "metadata": {},
   "outputs": [],
   "source": []
  },
  {
   "cell_type": "code",
   "execution_count": null,
   "metadata": {},
   "outputs": [],
   "source": []
  }
 ],
 "metadata": {
  "kernelspec": {
   "display_name": "env_dhi",
   "language": "python",
   "name": "env_dhi"
  },
  "language_info": {
   "codemirror_mode": {
    "name": "ipython",
    "version": 3
   },
   "file_extension": ".py",
   "mimetype": "text/x-python",
   "name": "python",
   "nbconvert_exporter": "python",
   "pygments_lexer": "ipython3",
   "version": "3.6.4"
  }
 },
 "nbformat": 4,
 "nbformat_minor": 2
}
