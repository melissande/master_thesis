{
 "cells": [
  {
   "cell_type": "code",
   "execution_count": 96,
   "metadata": {},
   "outputs": [],
   "source": [
    "from osgeo import gdal, osr,ogr\n",
    "import numpy as np\n",
    "import json\n"
   ]
  },
  {
   "cell_type": "code",
   "execution_count": 97,
   "metadata": {},
   "outputs": [],
   "source": [
    "groundtruth='MODEL_BASIC_TF_120/TEST_SAVE/epoch_39_Groundtruth_78.jpg'\n",
    "prediction='MODEL_BASIC_TF_120/TEST_SAVE/epoch_39_Predictions_78.jpg'"
   ]
  },
  {
   "cell_type": "code",
   "execution_count": 98,
   "metadata": {},
   "outputs": [],
   "source": [
    "def vectorize_raster(geoJsonFileName,array2d,layerName=\"BuildingID\",fieldName=\"BuildingID\"):\n",
    "    \n",
    "\n",
    "    memdrv = gdal.GetDriverByName('MEM')\n",
    "    src_ds = memdrv.Create('', array2d.shape[1], array2d.shape[0], 1)\n",
    "    band = src_ds.GetRasterBand(1)\n",
    "    band.WriteArray(array2d)\n",
    "\n",
    "    dst_layername = \"BuildingID\"\n",
    "    drv = ogr.GetDriverByName(\"geojson\")\n",
    "    dst_ds = drv.CreateDataSource(geoJsonFileName)\n",
    "    dst_layer = dst_ds.CreateLayer(layerName, srs=None)\n",
    "\n",
    "    fd = ogr.FieldDefn(fieldName, ogr.OFTInteger)\n",
    "    dst_layer.CreateField(fd)\n",
    "    dst_field = 1\n",
    "\n",
    "    gdal.Polygonize(band, None, dst_layer, dst_field, [], callback=None)\n",
    "\n",
    "    return"
   ]
  },
  {
   "cell_type": "code",
   "execution_count": 99,
   "metadata": {},
   "outputs": [],
   "source": [
    "def predict_score_batch(temporary_fold,batch_y,prediction):\n",
    "    tot_score_batch=0\n",
    "    tot_f1_score_batch=0\n",
    "\n",
    "    for i in range(len(batch_y)):\n",
    "        vectorize_raster(temporary_fold+'test_gt.geojson',batch_y[i])\n",
    "        vectorize_raster(temporary_fold+'test_pred.geojson',prediction[i])\n",
    "        with open(temporary_fold+'test_gt.geojson') as f:\n",
    "            geojson_groundtruth = json.load(f)\n",
    "        with open(temporary_fold+'test_pred.geojson') as f:\n",
    "            geojson_prediction = json.load(f)\n",
    "        score=0\n",
    "        \n",
    "        M=len(geojson_prediction['features'])\n",
    "        N=len(geojson_groundtruth['features'])\n",
    "        for feature_pred in geojson_prediction['features']:   \n",
    "            IoUs=[]\n",
    "            for feature_gt in geojson_groundtruth['features']:\n",
    "                \n",
    "                poly1=ogr.CreateGeometryFromJson(json.dumps(feature_gt['geometry']))\n",
    "                poly2=ogr.CreateGeometryFromJson(json.dumps(feature_pred['geometry']))\n",
    "                intersection = poly1.Intersection(poly2)\n",
    "                union = poly1.Union(poly2)\n",
    "                if intersection is None:\n",
    "                    IoUs.append(0.0)\n",
    "                else:\n",
    "                    IoUs.append(intersection.GetArea()/union.GetArea())\n",
    "            IoUs=np.asarray(IoUs)\n",
    "            IoUs=(IoUs>0.5).astype(int)*IoUs\n",
    "#             print(IoUs)\n",
    "            if (IoUs.size and np.amax(IoUs)>0):\n",
    "                index=np.argmax(IoUs)\n",
    "#                 print(index)\n",
    "                geojson_groundtruth['features'].remove(geojson_groundtruth['features'][0])\n",
    "                score+=1\n",
    "            tot_score_batch+=score/M\n",
    "            tot_f1_score_batch+=2*score/(M+N)\n",
    "        tot_score_batch/=len(batch_y)\n",
    "        tot_f1_score_batch/=len(batch_y)\n",
    "    return tot_score_batch*100,tot_f1_score_batch*100\n",
    "#     print(tot_score_batch)\n",
    "        "
   ]
  },
  {
   "cell_type": "code",
   "execution_count": null,
   "metadata": {},
   "outputs": [],
   "source": []
  },
  {
   "cell_type": "code",
   "execution_count": null,
   "metadata": {},
   "outputs": [],
   "source": []
  }
 ],
 "metadata": {
  "kernelspec": {
   "display_name": "env_dhi",
   "language": "python",
   "name": "env_dhi"
  },
  "language_info": {
   "codemirror_mode": {
    "name": "ipython",
    "version": 3
   },
   "file_extension": ".py",
   "mimetype": "text/x-python",
   "name": "python",
   "nbconvert_exporter": "python",
   "pygments_lexer": "ipython3",
   "version": "3.6.4"
  }
 },
 "nbformat": 4,
 "nbformat_minor": 2
}
